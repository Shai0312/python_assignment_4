{
  "nbformat": 4,
  "nbformat_minor": 0,
  "metadata": {
    "colab": {
      "provenance": [],
      "authorship_tag": "ABX9TyOPU/m2rASfkCHrf2lllJfp",
      "include_colab_link": true
    },
    "kernelspec": {
      "name": "python3",
      "display_name": "Python 3"
    },
    "language_info": {
      "name": "python"
    }
  },
  "cells": [
    {
      "cell_type": "markdown",
      "metadata": {
        "id": "view-in-github",
        "colab_type": "text"
      },
      "source": [
        "<a href=\"https://colab.research.google.com/github/Shai0312/python_assignment_4/blob/main/online_class_projects_01_basics.ipynb\" target=\"_parent\"><img src=\"https://colab.research.google.com/assets/colab-badge.svg\" alt=\"Open In Colab\"/></a>"
      ]
    },
    {
      "cell_type": "code",
      "execution_count": 3,
      "metadata": {
        "colab": {
          "base_uri": "https://localhost:8080/"
        },
        "id": "uln1UtCEgnK2",
        "outputId": "218d3a7a-7d4f-48c4-eb23-37f8f2049db7"
      },
      "outputs": [
        {
          "output_type": "stream",
          "name": "stdout",
          "text": [
            "00_joke_bot\n",
            "What do you want?sorry\n",
            "Sorry i only tell jokes.\n"
          ]
        }
      ],
      "source": [
        "print(\"00_joke_bot\")\n",
        "PROMPT: str = \"What do you want?\"\n",
        "JOKE:str = \"Why don’t eggs tell jokes?\\n Because they’d crack each other up!\"\n",
        "SORRY:str = \"Sorry I only tell jokes.\"\n",
        "\n",
        "def main():\n",
        "  user_input = input(PROMPT)\n",
        "  user_input = user_input.strip().lower()\n",
        "  if \"joke\" in user_input:\n",
        "    print(JOKE)\n",
        "  else:\n",
        "    print(SORRY)\n",
        "\n",
        "if __name__ == \"__main__\":\n",
        "  main()"
      ]
    },
    {
      "cell_type": "code",
      "source": [
        "print(\"01_double_it\")\n",
        "def main():\n",
        "  user_value = int(input(\"Enter a number:\"))\n",
        "  while user_value < 100:\n",
        "    user_value = user_value * 2\n",
        "    print(user_value)\n",
        "if __name__ == \"__main__\":\n",
        "  main()"
      ],
      "metadata": {
        "colab": {
          "base_uri": "https://localhost:8080/"
        },
        "id": "nbR0E4AHjyCg",
        "outputId": "f787759f-2948-41b6-bd2a-c8b6f04715d2"
      },
      "execution_count": 7,
      "outputs": [
        {
          "output_type": "stream",
          "name": "stdout",
          "text": [
            "01_double_it\n",
            "Enter a number:5\n",
            "10\n",
            "20\n",
            "40\n",
            "80\n",
            "160\n"
          ]
        }
      ]
    },
    {
      "cell_type": "code",
      "source": [
        "print(\"02_liftoff\")\n",
        "\n",
        "def main():\n",
        "  for i in range(10,0,-1):\n",
        "    print(i,end = \" \")\n",
        "  print(\"liftoff\")\n",
        "if __name__ == \"__main__\":\n",
        "  main()"
      ],
      "metadata": {
        "colab": {
          "base_uri": "https://localhost:8080/"
        },
        "id": "ovNC8xPCkPdH",
        "outputId": "4588baa7-c688-4cdd-affe-1f0fb185c5ab"
      },
      "execution_count": 8,
      "outputs": [
        {
          "output_type": "stream",
          "name": "stdout",
          "text": [
            "02_liftoff\n",
            "10 9 8 7 6 5 4 3 2 1 liftoff\n"
          ]
        }
      ]
    },
    {
      "cell_type": "code",
      "source": [
        "import random\n",
        "print(\"03_guess_my_number\")\n",
        "\n",
        "def main():\n",
        "  secret_number = random.randint(1, 100)\n",
        "  print(\"I'm thinking of a number between 1 and 100.\")\n",
        "  guess = int(input(\"Your guess: \"))\n",
        "  while guess != secret_number:\n",
        "    if guess > secret_number:\n",
        "      print(\"Too high.\")\n",
        "    else:\n",
        "      print(\"Too low.\")\n",
        "    guess = int(input(\"Try again: \"))\n",
        "  print(f\"Congratulations! The secret number was {secret_number}.\")\n",
        "\n",
        "if __name__ == \"__main__\":\n",
        "  main()"
      ],
      "metadata": {
        "colab": {
          "base_uri": "https://localhost:8080/"
        },
        "id": "v57x-lxKkfTu",
        "outputId": "e58de422-13df-4a16-cdbb-dac2a4ba288a"
      },
      "execution_count": 10,
      "outputs": [
        {
          "output_type": "stream",
          "name": "stdout",
          "text": [
            "03_guess_my_number\n",
            "I'm thinking of a number between 1 and 100.\n",
            "Your guess: 50\n",
            "Too high.\n",
            "Try again: 45\n",
            "Too high.\n",
            "Try again: 40\n",
            "Too high.\n",
            "Try again: 35\n",
            "Too high.\n",
            "Try again: 30\n",
            "Too high.\n",
            "Try again: 20\n",
            "Too low.\n",
            "Try again: 25\n",
            "Too high.\n",
            "Try again: 23\n",
            "Too high.\n",
            "Try again: 21\n",
            "Congratulations! The secret number was 21.\n"
          ]
        }
      ]
    },
    {
      "cell_type": "code",
      "source": [
        "import random\n",
        "print(\"04_random_numbers\")\n",
        "\n",
        "def main():\n",
        "  for _ in range(10):\n",
        "    print(random.randint(1, 100),end = \" \")\n",
        "\n",
        "if __name__ == \"__main__\":\n",
        "  main()"
      ],
      "metadata": {
        "colab": {
          "base_uri": "https://localhost:8080/"
        },
        "id": "H4ShrVCEk0Os",
        "outputId": "cc4e67a5-a757-4f1d-ee7f-e6a8d11adf1a"
      },
      "execution_count": 11,
      "outputs": [
        {
          "output_type": "stream",
          "name": "stdout",
          "text": [
            "04_random_numbers\n",
            "94 30 78 18 80 77 1 53 30 30 "
          ]
        }
      ]
    }
  ]
}
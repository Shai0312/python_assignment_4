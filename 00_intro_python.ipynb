{
  "nbformat": 4,
  "nbformat_minor": 0,
  "metadata": {
    "colab": {
      "provenance": [],
      "authorship_tag": "ABX9TyP18Y0NxQ70mxL0dVE/Tk4z",
      "include_colab_link": true
    },
    "kernelspec": {
      "name": "python3",
      "display_name": "Python 3"
    },
    "language_info": {
      "name": "python"
    }
  },
  "cells": [
    {
      "cell_type": "markdown",
      "metadata": {
        "id": "view-in-github",
        "colab_type": "text"
      },
      "source": [
        "<a href=\"https://colab.research.google.com/github/Shai0312/python_assignment_4/blob/main/00_intro_python.ipynb\" target=\"_parent\"><img src=\"https://colab.research.google.com/assets/colab-badge.svg\" alt=\"Open In Colab\"/></a>"
      ]
    },
    {
      "cell_type": "code",
      "execution_count": null,
      "metadata": {
        "colab": {
          "base_uri": "https://localhost:8080/"
        },
        "id": "tgUMBJCbz3w9",
        "outputId": "455cca8b-19af-43c6-cb6d-297d50307d01"
      },
      "outputs": [
        {
          "output_type": "stream",
          "name": "stdout",
          "text": [
            "O1_add_two_numbers\n",
            "This program for add two numbers\n",
            "Enter your first number\n",
            "45\n",
            "Enter your second number\n",
            "56\n",
            "The total sum of 45 and 56 is 101\n"
          ]
        }
      ],
      "source": [
        "print(\"O1_add_two_numbers\")\n",
        "def add():\n",
        "  print(\"This program for add two numbers\")\n",
        "  first_number = int(input(\"Enter your first number\\n\"))\n",
        "  second_number = int(input(\"Enter your second number\\n\"))\n",
        "  total =int(first_number + second_number)\n",
        "  print(f\"The total sum of {first_number} and {second_number} is {total}\")\n",
        "if __name__ == \"__main__\":\n",
        "  add()\n"
      ]
    },
    {
      "cell_type": "code",
      "source": [],
      "metadata": {
        "id": "UP7_iZ0yrfPS"
      },
      "execution_count": null,
      "outputs": []
    },
    {
      "cell_type": "code",
      "source": [],
      "metadata": {
        "id": "h7gEhXzQrg7j"
      },
      "execution_count": null,
      "outputs": []
    },
    {
      "cell_type": "code",
      "source": [
        "print(\"02_agreement_bot\")\n",
        "def bot():\n",
        "  animal = str(input(\"What their favourite animal is?\\n\"))\n",
        "  print(f\"My favourite animal is also {animal}!\")\n",
        "if __name__ == \"__main__\":\n",
        "  bot()"
      ],
      "metadata": {
        "colab": {
          "base_uri": "https://localhost:8080/"
        },
        "id": "Rfr_30MC6j1T",
        "outputId": "b9df44ec-0ab9-4fe5-9b8e-5d8a3f0d63bf"
      },
      "execution_count": null,
      "outputs": [
        {
          "output_type": "stream",
          "name": "stdout",
          "text": [
            "02_agreement_bot\n",
            "What their favourite animal is?\n",
            "cow\n",
            "My favourite animal is also cow!\n"
          ]
        }
      ]
    },
    {
      "cell_type": "code",
      "source": [
        "print(\"03_fahrenheit_to_celsius\")\n",
        "def temp():\n",
        "  print(\"This code for converting Fahrenheit to Celsius\")\n",
        "  fahrenheit_degree = float(input(\"Enter your fahrenheit degree\\n\"))\n",
        "  celsius_degree = (fahrenheit_degree - 32) * 5.0/9.0\n",
        "  print(f\"{fahrenheit_degree}F is equal to {celsius_degree}C\")\n",
        "if __name__ == \"__main__\":\n",
        "  temp()\n"
      ],
      "metadata": {
        "colab": {
          "base_uri": "https://localhost:8080/"
        },
        "id": "pYAkRDE-7gC-",
        "outputId": "de474b67-d461-4637-e3cc-f397122d2be8"
      },
      "execution_count": null,
      "outputs": [
        {
          "output_type": "stream",
          "name": "stdout",
          "text": [
            "03_fahrenheit_to_celsius\n",
            "This code for converting Fahrenheit to Celsius\n",
            "Enter your fahrenheit degree\n",
            "45\n",
            "45.0F is equal to 7.222222222222222C\n"
          ]
        }
      ]
    },
    {
      "cell_type": "code",
      "source": [
        "print(\"04_how_old_are_they\")\n",
        "def add_ages():\n",
        "  anthon:int = 21\n",
        "  beth: int = anthon + 6\n",
        "  chen: int = beth + 20\n",
        "  drew: int = chen + anthon\n",
        "  ethan: int = chen\n",
        "  print(\"anthon is \" + str(anthon))\n",
        "  print(\"beth is \" + str(beth))\n",
        "  print(\"chen is \" + str(chen))\n",
        "  print(\"drew is \" + str(drew))\n",
        "  print(\"ethan is \" + str(ethan))\n",
        "if __name__ == \"__main__\":\n",
        "  add_ages()"
      ],
      "metadata": {
        "colab": {
          "base_uri": "https://localhost:8080/"
        },
        "id": "QlQTAtps-yFZ",
        "outputId": "7b761a9b-df1c-4083-b05b-9a6fc3c3fd24"
      },
      "execution_count": null,
      "outputs": [
        {
          "output_type": "stream",
          "name": "stdout",
          "text": [
            "04_how_old_are_they\n",
            "anthon is 21\n",
            "beth is 27\n",
            "chen is 47\n",
            "drew is 68\n",
            "etan is 47\n"
          ]
        }
      ]
    },
    {
      "cell_type": "code",
      "source": [
        "print(\"05_triangle_perimeter\")\n",
        "def triangle():\n",
        "  side1: float = float(input(\"What is the length of side 1?\\n\"))\n",
        "  side2: float = float(input(\"What is the length of side 2?\\n\"))\n",
        "  side3: float = float(input(\"What is the length of side 3?\\n\"))\n",
        "  perimeter = side1 + side2 + side3\n",
        "  print(\"The perimeter of the triangle is \" + str(perimeter))\n",
        "if __name__ == \"__main__\":\n",
        "  triangle()"
      ],
      "metadata": {
        "colab": {
          "base_uri": "https://localhost:8080/"
        },
        "id": "UejA2VitrkI7",
        "outputId": "1516e916-ebd7-4fdc-8f57-a09df0ed7765"
      },
      "execution_count": null,
      "outputs": [
        {
          "output_type": "stream",
          "name": "stdout",
          "text": [
            "05_triangle_perimeter\n",
            "What is the length of side 1?\n",
            "45\n",
            "What is the length of side 2?\n",
            "56\n",
            "What is the length of side 3?\n",
            "78\n",
            "The perimeter of the triangle is 179.0\n"
          ]
        }
      ]
    },
    {
      "cell_type": "code",
      "source": [
        "print(\"06_square_number\")\n",
        "def square_number():\n",
        "  num: float = float(input(\"Type a number to see its square:\"))\n",
        "  print(str(num) + \" squared is \" + str(num** 2))\n",
        "if __name__ == \"__main__\":\n",
        "  square_number()"
      ],
      "metadata": {
        "colab": {
          "base_uri": "https://localhost:8080/"
        },
        "id": "CFurOkewt3p5",
        "outputId": "d8ae4bc0-b4a3-4928-a4e6-6f9c16d7bc77"
      },
      "execution_count": null,
      "outputs": [
        {
          "output_type": "stream",
          "name": "stdout",
          "text": [
            "06_square_number\n",
            "Type a number to see its square:2\n",
            "2.0 squared is 4.0\n"
          ]
        }
      ]
    }
  ]
}
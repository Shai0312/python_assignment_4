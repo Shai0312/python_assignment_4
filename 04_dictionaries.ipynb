{
  "nbformat": 4,
  "nbformat_minor": 0,
  "metadata": {
    "colab": {
      "provenance": [],
      "authorship_tag": "ABX9TyO1A0Fa7KZeprikBZURZg2y",
      "include_colab_link": true
    },
    "kernelspec": {
      "name": "python3",
      "display_name": "Python 3"
    },
    "language_info": {
      "name": "python"
    }
  },
  "cells": [
    {
      "cell_type": "markdown",
      "metadata": {
        "id": "view-in-github",
        "colab_type": "text"
      },
      "source": [
        "<a href=\"https://colab.research.google.com/github/Shai0312/python_assignment_4/blob/main/04_dictionaries.ipynb\" target=\"_parent\"><img src=\"https://colab.research.google.com/assets/colab-badge.svg\" alt=\"Open In Colab\"/></a>"
      ]
    },
    {
      "cell_type": "code",
      "execution_count": 4,
      "metadata": {
        "colab": {
          "base_uri": "https://localhost:8080/"
        },
        "id": "IiU5ZC6_7h1B",
        "outputId": "124f27fd-6ee5-496c-de74-7b8a246f90aa"
      },
      "outputs": [
        {
          "output_type": "stream",
          "name": "stdout",
          "text": [
            "00_count_nums\n",
            "Enter a number (or type 'Exit' to quit): 5\n",
            "Enter a number (or type 'Exit' to quit): 7\n",
            "Enter a number (or type 'Exit' to quit): 8\n",
            "Enter a number (or type 'Exit' to quit): 5\n",
            "Enter a number (or type 'Exit' to quit): exit\n",
            "\n",
            "Number Counts:\n",
            "5 appears 2 times\n",
            "7 appears 1 times\n",
            "8 appears 1 times\n"
          ]
        }
      ],
      "source": [
        "print(\"00_count_nums\")\n",
        "\n",
        "def count_numbers():\n",
        "    count_dict = {}\n",
        "\n",
        "    while True:\n",
        "        user_input = input(\"Enter a number (or type 'Exit' to quit): \")\n",
        "\n",
        "        if user_input.lower() == \"exit\":\n",
        "            break\n",
        "\n",
        "        if user_input.isdigit():\n",
        "            num = int(user_input)\n",
        "            count_dict[num] = count_dict.get(num, 0) + 1\n",
        "        else:\n",
        "            print(\"Invalid input. Please enter a valid number or 'Exit'.\")\n",
        "\n",
        "    return count_dict\n",
        "\n",
        "def display_counts(count_dict):\n",
        "    print(\"\\nNumber Counts:\")\n",
        "    for key, value in count_dict.items():\n",
        "        print(f\"{key} appears {value} times\")\n",
        "\n",
        "if __name__ == \"__main__\":\n",
        "    counts = count_numbers()\n",
        "    display_counts(counts)\n"
      ]
    },
    {
      "cell_type": "code",
      "source": [
        "print(\"01_phonebook\")\n",
        "def add_contact(phonebook):\n",
        "  name = input(\"Enter the name:\")\n",
        "  number = input(\"Enter contact number:\")\n",
        "\n",
        "  if name in phonebook:\n",
        "    print(f\"{name}  already exists in the phonebook.\")\n",
        "  else:\n",
        "    phonebook[name] = number\n",
        "    print(f\"{name} added successfully\")\n",
        "\n",
        "def search_contact(phonebook):\n",
        "  name = input(\"Enter the name to search:\")\n",
        "\n",
        "  if name in phonebook:\n",
        "    print(f\"The {name} : {phonebook[name]}\")\n",
        "  else:\n",
        "    print(f\"{name} not found in the phonebook.\")\n",
        "\n",
        "def delete_contact(phonebook):\n",
        "  name = input(\"Enter the name to delete:\")\n",
        "\n",
        "  if name in phonebook:\n",
        "    del phonebook[name]\n",
        "    print(f\"{name} deleted successfully from the phonebook.\")\n",
        "  else:\n",
        "    print(f\"{name} not found in the phonebook.\")\n",
        "\n",
        "def display_contacts(phonebook):\n",
        "  if phonebook:\n",
        "    print(\"\\n Phonebook contact list\")\n",
        "    for name, number in phonebook.items():\n",
        "      print(f\"{name} : {number}\")\n",
        "  else:\n",
        "    print(\"Phonebook is empty\")\n",
        "\n",
        "if __name__ == \"__main__\":\n",
        "  phonebook = {}\n",
        "\n",
        "  while True:\n",
        "    print(\"\\nPhonebook Menu:\")\n",
        "    print(\"1. Add Contact\")\n",
        "    print(\"2. Search Contact\")\n",
        "    print(\"3. Delete Contact\")\n",
        "    print(\"4. Display Contacts\")\n",
        "    print(\"5. Exit\")\n",
        "\n",
        "    choice = input(\"Enter your choice (1-5):\")\n",
        "\n",
        "    if choice == \"1\":\n",
        "      add_contact(phonebook)\n",
        "    elif choice == \"2\":\n",
        "      search_contact(phonebook)\n",
        "    elif choice == \"3\":\n",
        "      delete_contact(phonebook)\n",
        "    elif choice == \"4\":\n",
        "      display_contacts\n",
        "\n",
        "    elif choice == \"5\":\n",
        "      print(\"Exiting the phonebook. Goodbye!\")\n",
        "      break\n",
        "    else:\n",
        "      print(\"Invalid choice. Please enter a number between 1 and 5.\")\n",
        "\n"
      ],
      "metadata": {
        "colab": {
          "base_uri": "https://localhost:8080/"
        },
        "id": "x_Mz6NDeBAsj",
        "outputId": "3fd06aa6-1cf9-4a55-af90-a26828bc2942"
      },
      "execution_count": 6,
      "outputs": [
        {
          "output_type": "stream",
          "name": "stdout",
          "text": [
            "01_phonebook\n",
            "\n",
            "Phonebook Menu:\n",
            "1. Add Contact\n",
            "2. Search Contact\n",
            "3. Delete Contact\n",
            "4. Display Contacts\n",
            "5. Exit\n",
            "Enter your choice (1-5):1\n",
            "Enter the name:asma\n",
            "Enter contact number:03167906534\n",
            "asma added successfully\n",
            "\n",
            "Phonebook Menu:\n",
            "1. Add Contact\n",
            "2. Search Contact\n",
            "3. Delete Contact\n",
            "4. Display Contacts\n",
            "5. Exit\n",
            "Enter your choice (1-5):2\n",
            "Enter the name to search:asma\n",
            "The asma : 03167906534\n",
            "\n",
            "Phonebook Menu:\n",
            "1. Add Contact\n",
            "2. Search Contact\n",
            "3. Delete Contact\n",
            "4. Display Contacts\n",
            "5. Exit\n",
            "Enter your choice (1-5):3\n",
            "Enter the name to delete:asma\n",
            "asma deleted successfully from the phonebook.\n",
            "\n",
            "Phonebook Menu:\n",
            "1. Add Contact\n",
            "2. Search Contact\n",
            "3. Delete Contact\n",
            "4. Display Contacts\n",
            "5. Exit\n",
            "Enter your choice (1-5):4\n",
            "\n",
            "Phonebook Menu:\n",
            "1. Add Contact\n",
            "2. Search Contact\n",
            "3. Delete Contact\n",
            "4. Display Contacts\n",
            "5. Exit\n",
            "Enter your choice (1-5):5\n",
            "Exiting the phonebook. Goodbye!\n"
          ]
        }
      ]
    },
    {
      "cell_type": "code",
      "source": [
        "print(\"02_pop_up_shop\")\n",
        "\n",
        "def calculate_total_cost():\n",
        "    fruits_price = {\n",
        "        \"apple\": 5.0,\n",
        "        \"mangoes\": 15.0,\n",
        "        \"kiwi\": 8.0,\n",
        "        \"pear\": 12.0,\n",
        "        \"banana\": 6.0,\n",
        "        \"orange\": 10.0\n",
        "    }\n",
        "\n",
        "    total_cost = 0\n",
        "\n",
        "    for fruit, price in fruits_price.items():\n",
        "        while True:\n",
        "            try:\n",
        "                quantity = int(input(f\"How many {fruit}s do you want?: \"))\n",
        "                if quantity < 0:\n",
        "                    print(\"Invalid input. Please enter a non-negative number.\")\n",
        "                    continue\n",
        "                total_cost += price * quantity\n",
        "                break\n",
        "            except ValueError:\n",
        "                print(\"Invalid input. Please enter a valid number.\")\n",
        "\n",
        "    # ✅ Total cost is printed only once, after all inputs\n",
        "    print(f\"\\n Your Total cost is: ${total_cost:.2f}\")\n",
        "\n",
        "if __name__ == \"__main__\":\n",
        "    calculate_total_cost()\n"
      ],
      "metadata": {
        "colab": {
          "base_uri": "https://localhost:8080/"
        },
        "id": "JquU3RRVJpds",
        "outputId": "ee7b9ab3-88e3-4971-83a6-f9c96cd0a35b"
      },
      "execution_count": 14,
      "outputs": [
        {
          "output_type": "stream",
          "name": "stdout",
          "text": [
            "02_pop_up_shop\n",
            "How many apples do you want?: 7\n",
            "How many mangos do you want?: 9\n",
            "How many kiwis do you want?: 3\n",
            "How many pears do you want?: 9\n",
            "How many bananas do you want?: 2\n",
            "How many oranges do you want?: 5\n",
            "\n",
            " Your Total cost is: $364.00\n"
          ]
        }
      ]
    },
    {
      "cell_type": "code",
      "source": [
        "import hashlib\n",
        "print(\"03_powerful_passwords\")\n",
        "\n",
        "def hash_password(password):\n",
        "  return hashlib.sha256(password.encode()).hexdigest()\n",
        "\n",
        "stored_logins = {\n",
        "    \"user@example.com\": hash_password(\"password123\"),\n",
        "    \"admin@example.com\": hash_password(\"adminpass\")\n",
        "}\n",
        "\n",
        "def login(email,password):\n",
        "  if email in stored_logins:\n",
        "   return stored_logins[email] == hash_password(password)\n",
        "  return False\n",
        "\n",
        "if __name__ == \"__main__\":\n",
        "  email = input(\"Enter your email:\")\n",
        "  password = input(\"Enter your password:\")\n",
        "\n",
        "  if login(email,password):\n",
        "    print(\"Login successful\")\n",
        "  else:\n",
        "    print(\"Invalid email or password\")\n",
        "\n"
      ],
      "metadata": {
        "colab": {
          "base_uri": "https://localhost:8080/"
        },
        "id": "MeKlHfZVNr6w",
        "outputId": "44b4295b-b4a7-4aac-e9e5-d80865af9a27"
      },
      "execution_count": 16,
      "outputs": [
        {
          "output_type": "stream",
          "name": "stdout",
          "text": [
            "03_powerful_passwords\n",
            "Enter your email:user@example.com\n",
            "Enter your password:password123\n",
            "Login successful\n"
          ]
        }
      ]
    }
  ]
}
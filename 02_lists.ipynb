{
  "nbformat": 4,
  "nbformat_minor": 0,
  "metadata": {
    "colab": {
      "provenance": [],
      "authorship_tag": "ABX9TyO06JX5hry8TqiQonvpsSVn",
      "include_colab_link": true
    },
    "kernelspec": {
      "name": "python3",
      "display_name": "Python 3"
    },
    "language_info": {
      "name": "python"
    }
  },
  "cells": [
    {
      "cell_type": "markdown",
      "metadata": {
        "id": "view-in-github",
        "colab_type": "text"
      },
      "source": [
        "<a href=\"https://colab.research.google.com/github/Shai0312/python_assignment_4/blob/main/02_lists.ipynb\" target=\"_parent\"><img src=\"https://colab.research.google.com/assets/colab-badge.svg\" alt=\"Open In Colab\"/></a>"
      ]
    },
    {
      "cell_type": "code",
      "execution_count": 18,
      "metadata": {
        "colab": {
          "base_uri": "https://localhost:8080/"
        },
        "id": "rEiN790ZLQlw",
        "outputId": "c4b981e0-cbf5-403a-8719-044efa34ced6"
      },
      "outputs": [
        {
          "output_type": "stream",
          "name": "stdout",
          "text": [
            "01_add_many_numbers\n",
            "15\n"
          ]
        }
      ],
      "source": [
        "print(\"01_add_many_numbers\")\n",
        "\n",
        "def add_numbers(numbers)->int:\n",
        "  num:int = 0\n",
        "  for i in numbers:\n",
        "    num += i\n",
        "  return num\n",
        "\n",
        "def main():\n",
        "  numbers: list[int] = [1,2,3,4,5]\n",
        "  sum = add_numbers(numbers)\n",
        "  print(sum)\n",
        "\n",
        "if __name__ == \"__main__\":\n",
        "  main()\n"
      ]
    },
    {
      "cell_type": "code",
      "source": [
        "print(\"02_double_list\")\n",
        "\n",
        "def main():\n",
        "  numbers:list[int] = [1,2,3,4,5]\n",
        "  for i in range(len(numbers)):\n",
        "    index = numbers[i]\n",
        "    numbers[i] = index *2\n",
        "  print(numbers)\n",
        "\n",
        "if __name__ == \"__main__\":\n",
        "  main()\n"
      ],
      "metadata": {
        "colab": {
          "base_uri": "https://localhost:8080/"
        },
        "id": "3dFa8wECPD7T",
        "outputId": "c05ee0db-80ab-40cb-977e-66139595f02e"
      },
      "execution_count": 5,
      "outputs": [
        {
          "output_type": "stream",
          "name": "stdout",
          "text": [
            "02_double_list\n",
            "[2, 4, 6, 8, 10]\n"
          ]
        }
      ]
    },
    {
      "cell_type": "code",
      "source": [
        "print(\"04_flowing_with_data_structures\")\n",
        "\n",
        "def add_three_copies(lst,data):\n",
        "  for i in range(3):\n",
        "    lst.append(data)\n",
        "\n",
        "def main():\n",
        "  message = input(\"Enter a message to copy: \")\n",
        "  lst = []\n",
        "  print(\"before list: \" ,lst)\n",
        "  add_three_copies(lst,message)\n",
        "  print(\"after list: \" ,lst)\n",
        "\n",
        "if __name__ == \"__main__\":\n",
        "  main()"
      ],
      "metadata": {
        "colab": {
          "base_uri": "https://localhost:8080/"
        },
        "id": "vlo83FkjUK1M",
        "outputId": "d3f28f03-6db9-4ff6-f03d-0a9e393aa97a"
      },
      "execution_count": 7,
      "outputs": [
        {
          "output_type": "stream",
          "name": "stdout",
          "text": [
            "04_flowing_with_data_structures\n",
            "Enter a message to copy: hello\n",
            "before list:  []\n",
            "after list:  ['hello', 'hello', 'hello']\n"
          ]
        }
      ]
    },
    {
      "cell_type": "code",
      "source": [
        "print(\"05_get_first_element\")\n",
        "def get_first_element(lst):\n",
        "  print(lst[0])\n",
        "\n",
        "def get_lst():\n",
        "  lst = []\n",
        "  elem:str = input(\"Enter an element to add to the list.\")\n",
        "  while elem != \"\":\n",
        "    lst.append(elem)\n",
        "    elem = input(\"Enter an element to add to the list.\")\n",
        "  return lst\n",
        "\n",
        "def main():\n",
        "  lst = get_lst()\n",
        "  get_first_element(lst)\n",
        "\n",
        "if __name__ == \"__main__\":\n",
        "  main()\n"
      ],
      "metadata": {
        "colab": {
          "base_uri": "https://localhost:8080/"
        },
        "id": "cd4HFvW6YW95",
        "outputId": "a14f9e9f-242c-4353-e711-7b14ae1a927d"
      },
      "execution_count": 19,
      "outputs": [
        {
          "output_type": "stream",
          "name": "stdout",
          "text": [
            "05_get_first_element\n",
            "Enter an element to add to the list.r\n",
            "Enter an element to add to the list.u\n",
            "Enter an element to add to the list.n\n",
            "Enter an element to add to the list.\n",
            "r\n"
          ]
        }
      ]
    },
    {
      "cell_type": "code",
      "source": [
        "print(\"06_get_last_element\")\n",
        "\n",
        "def get_last_element(lst):\n",
        "    print(lst[-1])\n",
        "\n",
        "def get_lst():\n",
        "    lst = []\n",
        "    elem = input(\"Enter an element to add to the list: \")\n",
        "    while elem != \"\":\n",
        "        lst.append(elem)\n",
        "        elem = input(\"Enter an element to add to the list: \")\n",
        "    return lst\n",
        "\n",
        "def main():\n",
        "    lst = get_lst()\n",
        "    get_last_element(lst)\n",
        "\n",
        "if __name__ == \"__main__\":\n",
        "    main()\n"
      ],
      "metadata": {
        "colab": {
          "base_uri": "https://localhost:8080/"
        },
        "id": "DDHxHp7QaYQn",
        "outputId": "370b2124-3736-4e94-c71e-934f7f89d19a"
      },
      "execution_count": 20,
      "outputs": [
        {
          "output_type": "stream",
          "name": "stdout",
          "text": [
            "06_get_last_element\n",
            "Enter an element to add to the list: b\n",
            "Enter an element to add to the list: u\n",
            "Enter an element to add to the list: g\n",
            "Enter an element to add to the list: \n",
            "g\n"
          ]
        }
      ]
    },
    {
      "cell_type": "code",
      "source": [
        "print(\"07_get_list\")\n",
        "def main():\n",
        "  lst = []\n",
        "  val = input(\"Enter a value to add to the list: \")\n",
        "  while val != \"\":\n",
        "    lst.append(val)\n",
        "    val = input(\"Enter a value to add to the list: \")\n",
        "  print(\"Here is the list: \",lst)\n",
        "\n",
        "if __name__ == \"__main__\":\n",
        "  main()\n"
      ],
      "metadata": {
        "colab": {
          "base_uri": "https://localhost:8080/"
        },
        "id": "q90TEeGbjxcH",
        "outputId": "513d52dd-1f0e-454b-ea24-1bcce1c212af"
      },
      "execution_count": 21,
      "outputs": [
        {
          "output_type": "stream",
          "name": "stdout",
          "text": [
            "07_get_list\n",
            "Enter a value to add to the list: apple\n",
            "Enter a value to add to the list: banana\n",
            "Enter a value to add to the list: mango\n",
            "Enter a value to add to the list: guava\n",
            "Enter a value to add to the list: pear\n",
            "Enter a value to add to the list: \n",
            "Here is the list:  ['apple', 'banana', 'mango', 'guava', 'pear']\n"
          ]
        }
      ]
    },
    {
      "cell_type": "code",
      "source": [
        "print(\"08_shorten\")\n",
        "\n",
        "MAX_LENGTH: int = 3\n",
        "\n",
        "def shorten(lst):\n",
        "    # Print only last 3 elements\n",
        "    for item in lst[-MAX_LENGTH:]:\n",
        "        print(item)\n",
        "\n",
        "def get_lst():\n",
        "    lst = []\n",
        "    element = input(\"Enter an element to add to the list: \")\n",
        "    while element != \"\":\n",
        "        lst.append(element)\n",
        "        element = input(\"Enter an element to add to the list: \")\n",
        "    return lst\n",
        "\n",
        "def main():\n",
        "    lst = get_lst()\n",
        "    shorten(lst)\n",
        "\n",
        "if __name__ == \"__main__\":\n",
        "    main()\n"
      ],
      "metadata": {
        "colab": {
          "base_uri": "https://localhost:8080/"
        },
        "id": "VxhLlrvfkWR-",
        "outputId": "b8f90910-980c-447d-e9b1-461cba3678b0"
      },
      "execution_count": 25,
      "outputs": [
        {
          "output_type": "stream",
          "name": "stdout",
          "text": [
            "08_shorten\n",
            "Enter an element to add to the list: jkh\n",
            "Enter an element to add to the list: kjh\n",
            "Enter an element to add to the list: klj\n",
            "Enter an element to add to the list: lkj\n",
            "Enter an element to add to the list: \n",
            "kjh\n",
            "klj\n",
            "lkj\n"
          ]
        }
      ]
    }
  ]
}